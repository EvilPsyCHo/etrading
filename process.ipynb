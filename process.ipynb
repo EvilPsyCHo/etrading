{
 "cells": [
  {
   "cell_type": "code",
   "execution_count": 2,
   "metadata": {},
   "outputs": [],
   "source": [
    "import pickle\n",
    "import pandas as pd"
   ]
  },
  {
   "cell_type": "code",
   "execution_count": 12,
   "metadata": {},
   "outputs": [],
   "source": [
    "def load_pickle(path):\n",
    "    with open(path, \"rb\") as f:\n",
    "        return pickle.load(f)\n",
    "    \n",
    "def dump_pickle(data, path):\n",
    "    with open(path, \"wb\") as f:\n",
    "        pickle.dump(data, f)"
   ]
  },
  {
   "cell_type": "code",
   "execution_count": 16,
   "metadata": {},
   "outputs": [],
   "source": [
    "data = load_pickle(\"/home/kky/project/etrading/data/841c8cf7-0941-4600-9276-4889fd71f163/data.pkl\")\n",
    "process = load_pickle(\"/home/kky/project/etrading/data/841c8cf7-0941-4600-9276-4889fd71f163/process.pkl\")\n",
    "analysis = load_pickle(\"/home/kky/project/etrading/data/841c8cf7-0941-4600-9276-4889fd71f163/analysis.pkl\")"
   ]
  },
  {
   "cell_type": "code",
   "execution_count": 23,
   "metadata": {},
   "outputs": [],
   "source": [
    "info = load_pickle(\"/home/kky/project/etrading/data/841c8cf7-0941-4600-9276-4889fd71f163/info.pkl\")"
   ]
  },
  {
   "cell_type": "code",
   "execution_count": 17,
   "metadata": {},
   "outputs": [
    {
     "data": {
      "text/plain": [
       "dict_keys(['eng_id', 'path', 'units_df', 'bus_load_df', 'sys_load_df', 'new_energy_df'])"
      ]
     },
     "execution_count": 17,
     "metadata": {},
     "output_type": "execute_result"
    }
   ],
   "source": [
    "data.keys()"
   ]
  },
  {
   "cell_type": "code",
   "execution_count": 18,
   "metadata": {},
   "outputs": [
    {
     "data": {
      "text/plain": [
       "dict_keys(['eng_id', 'sysplan', 'units', 'trade_dfs', 'linemap', 'sysload', 'busload', 'new_energy_plan'])"
      ]
     },
     "execution_count": 18,
     "metadata": {},
     "output_type": "execute_result"
    }
   ],
   "source": [
    "process.keys()"
   ]
  },
  {
   "cell_type": "code",
   "execution_count": 7,
   "metadata": {},
   "outputs": [
    {
     "data": {
      "text/plain": [
       "27"
      ]
     },
     "execution_count": 7,
     "metadata": {},
     "output_type": "execute_result"
    }
   ],
   "source": [
    "process[\"trade_dfs\"].roundId.nunique()"
   ]
  },
  {
   "cell_type": "code",
   "execution_count": 8,
   "metadata": {},
   "outputs": [
    {
     "data": {
      "text/plain": [
       "18"
      ]
     },
     "execution_count": 8,
     "metadata": {},
     "output_type": "execute_result"
    }
   ],
   "source": [
    "analysis[\"trade_dfs\"].roundId.nunique()"
   ]
  },
  {
   "cell_type": "code",
   "execution_count": 14,
   "metadata": {},
   "outputs": [
    {
     "data": {
      "text/plain": [
       "{'eng_id': '841c8cf7-0941-4600-9276-4889fd71f163',\n",
       " 'eng_name': 'mu_250_bias_50',\n",
       " 'target_rounds': 30,\n",
       " 'exp_rounds': 27,\n",
       " 'valid_exp_rounds': 18}"
      ]
     },
     "execution_count": 14,
     "metadata": {},
     "output_type": "execute_result"
    }
   ],
   "source": [
    "info"
   ]
  },
  {
   "cell_type": "code",
   "execution_count": 20,
   "metadata": {},
   "outputs": [],
   "source": [
    "info = {\n",
    "    \"eng_id\": data[\"eng_id\"],\n",
    "    \"eng_name\": \"mu_250_bias_50\",\n",
    "    \"target_rounds\": 30,\n",
    "    \"exp_rounds\": 27,\n",
    "    \"valid_exp_rounds\": 18,\n",
    "}"
   ]
  },
  {
   "cell_type": "code",
   "execution_count": 22,
   "metadata": {},
   "outputs": [],
   "source": [
    "dump_pickle(info, \"/home/kky/project/etrading/data/841c8cf7-0941-4600-9276-4889fd71f163/info.pkl\")"
   ]
  }
 ],
 "metadata": {
  "kernelspec": {
   "display_name": "guoneng",
   "language": "python",
   "name": "python3"
  },
  "language_info": {
   "codemirror_mode": {
    "name": "ipython",
    "version": 3
   },
   "file_extension": ".py",
   "mimetype": "text/x-python",
   "name": "python",
   "nbconvert_exporter": "python",
   "pygments_lexer": "ipython3",
   "version": "3.10.14"
  }
 },
 "nbformat": 4,
 "nbformat_minor": 2
}
